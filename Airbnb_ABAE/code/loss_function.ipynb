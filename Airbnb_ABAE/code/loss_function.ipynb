{
 "cells": [
  {
   "cell_type": "code",
   "execution_count": 1,
   "metadata": {},
   "outputs": [],
   "source": [
    "import pandas as pd\n",
    "import numpy as np\n",
    "import re\n",
    "from collections import defaultdict, Counter"
   ]
  },
  {
   "cell_type": "code",
   "execution_count": 2,
   "metadata": {},
   "outputs": [],
   "source": [
    "# input_sentence\n",
    "sent_dic = {}\n",
    "with open('../preprocessed_data/restaurant/train.txt', 'r') as f:\n",
    "    for i, sent in enumerate(f.readlines()):\n",
    "        sent_dic[i] = sent.strip()"
   ]
  },
  {
   "cell_type": "code",
   "execution_count": 3,
   "metadata": {},
   "outputs": [],
   "source": [
    "# topic_weights\n",
    "float_regex = re.compile('[0-9.]+')\n",
    "tw_dic = {}\n",
    "with open('../output/restaurant/topic_weights_5_arya', 'r') as f:\n",
    "    for i, tw in enumerate(f.readlines()):\n",
    "        tw_dic[i] = np.argmax([float(x) for x in re.findall(float_regex, tw)])"
   ]
  },
  {
   "cell_type": "code",
   "execution_count": 4,
   "metadata": {},
   "outputs": [],
   "source": [
    "vocab = {i:{} for i in range(5)}\n",
    "\n",
    "for ind, asp in tw_dic.items():\n",
    "    sent = sent_dic[ind]\n",
    "    for word in sent.split():\n",
    "        if word in vocab[asp]:\n",
    "            vocab[asp][word] += 1\n",
    "        else:\n",
    "            vocab[asp][word] = 1"
   ]
  },
  {
   "cell_type": "code",
   "execution_count": 5,
   "metadata": {},
   "outputs": [],
   "source": [
    "sorted_vocab = {key : dict(sorted(val.items(), key = lambda x : x[1], reverse=True)) for key, val in vocab.items()}"
   ]
  },
  {
   "cell_type": "code",
   "execution_count": 6,
   "metadata": {},
   "outputs": [],
   "source": [
    "# Indicative\n",
    "\n",
    "indicative_dic = {}\n",
    "for i in range(5):\n",
    "    A_j = sum(sorted_vocab.get(i).values())\n",
    "    A_j_w = np.fromiter(sorted_vocab.get(i).values(), dtype=float)\n",
    "    indicative_dic[i] = A_j_w / A_j"
   ]
  },
  {
   "cell_type": "code",
   "execution_count": 7,
   "metadata": {},
   "outputs": [
    {
     "data": {
      "text/plain": [
       "{0: array([1.46769286e-02, 1.35135135e-02, 1.03812422e-02, ...,\n",
       "        8.94934670e-05, 8.94934670e-05, 8.94934670e-05]),\n",
       " 1: array([1.39379832e-02, 1.20700060e-02, 1.20125298e-02, ...,\n",
       "        2.87381096e-05, 2.87381096e-05, 2.87381096e-05]),\n",
       " 2: array([1.42730083e-02, 1.10965228e-02, 1.09271102e-02, ...,\n",
       "        4.23531405e-05, 4.23531405e-05, 4.23531405e-05]),\n",
       " 3: array([1.64704829e-02, 1.28004297e-02, 1.21290785e-02, ...,\n",
       "        4.47567471e-05, 4.47567471e-05, 4.47567471e-05]),\n",
       " 4: array([1.45997581e-02, 1.23055104e-02, 1.17215200e-02, ...,\n",
       "        4.17135945e-05, 4.17135945e-05, 4.17135945e-05])}"
      ]
     },
     "execution_count": 7,
     "metadata": {},
     "output_type": "execute_result"
    }
   ],
   "source": [
    "indicative_dic"
   ]
  },
  {
   "cell_type": "code",
   "execution_count": 8,
   "metadata": {},
   "outputs": [],
   "source": [
    "# Distinctive\n",
    "distinctive_dic = {}\n",
    "for i in range(5):\n",
    "    A_k_w_list = []\n",
    "    for w, f in sorted_vocab.get(i).items():\n",
    "        A_k_w_sub = []\n",
    "        A_j_w = f\n",
    "        for j in range(5):\n",
    "            try:\n",
    "                A_k_w = sorted_vocab.get(j)[w]\n",
    "            except:\n",
    "                A_k_w = 0\n",
    "            A_k_w_sub.append(A_k_w)\n",
    "        A_k_w_list.append(A_j_w / max(A_k_w_sub))\n",
    "    distinctive_dic[i] = np.array(A_k_w_list)"
   ]
  },
  {
   "cell_type": "code",
   "execution_count": 9,
   "metadata": {},
   "outputs": [
    {
     "data": {
      "text/plain": [
       "{0: array([0.33814433, 0.36124402, 0.27619048, ..., 0.5       , 0.05555556,\n",
       "        1.        ]),\n",
       " 1: array([1.        , 1.        , 1.        , ..., 1.        , 0.5       ,\n",
       "        0.33333333]),\n",
       " 2: array([0.69484536, 0.62380952, 0.61722488, ..., 1.        , 0.5       ,\n",
       "        1.        ]),\n",
       " 3: array([0.75876289, 0.68421053, 0.6452381 , ..., 0.25      , 1.        ,\n",
       "        1.        ]),\n",
       " 4: array([0.72164948, 0.70238095, 0.6722488 , ..., 1.        , 0.33333333,\n",
       "        1.        ])}"
      ]
     },
     "execution_count": 9,
     "metadata": {},
     "output_type": "execute_result"
    }
   ],
   "source": [
    "distinctive_dic "
   ]
  },
  {
   "cell_type": "code",
   "execution_count": 10,
   "metadata": {},
   "outputs": [],
   "source": [
    "from scipy.stats.mstats import gmean"
   ]
  },
  {
   "cell_type": "code",
   "execution_count": 11,
   "metadata": {},
   "outputs": [],
   "source": [
    "gmean_dic = {}\n",
    "for i in range(5):\n",
    "    gmean_dic[i] = gmean([indicative_dic[i], distinctive_dic[i]], axis=0)"
   ]
  },
  {
   "cell_type": "code",
   "execution_count": 12,
   "metadata": {},
   "outputs": [
    {
     "data": {
      "text/plain": [
       "{0: array([0.070448  , 0.06986899, 0.05354624, ..., 0.0066893 , 0.00222977,\n",
       "        0.0094601 ]),\n",
       " 1: array([0.11805924, 0.10986358, 0.10960169, ..., 0.00536079, 0.00379065,\n",
       "        0.00309506]),\n",
       " 2: array([0.09958681, 0.08319926, 0.08212481, ..., 0.00650793, 0.0046018 ,\n",
       "        0.00650793]),\n",
       " 3: array([0.11179084, 0.09358519, 0.08846549, ..., 0.00334502, 0.00669005,\n",
       "        0.00669005]),\n",
       " 4: array([0.10264457, 0.09296858, 0.08876811, ..., 0.00645861, 0.00372888,\n",
       "        0.00645861])}"
      ]
     },
     "execution_count": 12,
     "metadata": {},
     "output_type": "execute_result"
    }
   ],
   "source": [
    "gmean_dic"
   ]
  },
  {
   "cell_type": "code",
   "execution_count": null,
   "metadata": {},
   "outputs": [],
   "source": []
  }
 ],
 "metadata": {
  "kernelspec": {
   "display_name": "TensorFlow 2.4 on Python 3.8 (CUDA 11.1)",
   "language": "python",
   "name": "python3"
  },
  "language_info": {
   "codemirror_mode": {
    "name": "ipython",
    "version": 3
   },
   "file_extension": ".py",
   "mimetype": "text/x-python",
   "name": "python",
   "nbconvert_exporter": "python",
   "pygments_lexer": "ipython3",
   "version": "3.8.8"
  }
 },
 "nbformat": 4,
 "nbformat_minor": 4
}
