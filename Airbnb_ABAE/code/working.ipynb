{
 "cells": [
  {
   "cell_type": "code",
   "execution_count": 3,
   "metadata": {},
   "outputs": [],
   "source": [
    "import pandas as pd\n",
    "import re"
   ]
  },
  {
   "cell_type": "markdown",
   "metadata": {},
   "source": [
    "#### Split sentence, label in ARYA datasets"
   ]
  },
  {
   "cell_type": "code",
   "execution_count": 40,
   "metadata": {},
   "outputs": [],
   "source": [
    "pattern = re.compile('.+,')\n",
    "\n",
    "with open('../datasets/restaurant/test_raw.txt') as f:\n",
    "    for line in f.readlines():\n",
    "        sent = re.findall(pattern, line.strip())[0]\n",
    "        label = line.split(sent)[1]\n",
    "        sent_.append(sent)\n",
    "        label_.append(label)"
   ]
  },
  {
   "cell_type": "code",
   "execution_count": 43,
   "metadata": {},
   "outputs": [],
   "source": [
    "with open('../datasets/restaurant/test.txt', 'w') as f, open('../datasets/restaurant/test_label.txt', 'w') as g:\n",
    "    for s, l in zip(sent_, label_):\n",
    "        f.write(s+'\\n')\n",
    "        g.write(l)"
   ]
  },
  {
   "cell_type": "markdown",
   "metadata": {},
   "source": [
    "#### Classification report"
   ]
  },
  {
   "cell_type": "code",
   "execution_count": 1,
   "metadata": {},
   "outputs": [],
   "source": [
    "from sklearn.metrics import classification_report"
   ]
  },
  {
   "cell_type": "code",
   "execution_count": 27,
   "metadata": {},
   "outputs": [],
   "source": [
    "def evaluation(pred_path):\n",
    "    cluster_map_arya = {0: 'location', 1: 'drinks', 2: 'food', 3: 'ambience', 4: 'service'}\n",
    "    cluster_map_init = {0: 'location', 1: 'food', 2: 'drinks', 3: 'ambience', 4: 'service'}\n",
    "\n",
    "    if 'arya' in pred_path:\n",
    "        cluster_map = cluster_map_arya\n",
    "    else:\n",
    "        cluster_map = cluster_map_init\n",
    "    \n",
    "    with open(pred_path, 'r') as f, open('../preprocessed_data/restaurant/test_label.txt', 'r') as g:\n",
    "        pred_list = [cluster_map[int(idx.strip())] for idx in f.readlines()]\n",
    "        true_list = [t.strip() for t in g.readlines()]\n",
    "        \n",
    "    print(classification_report(true_list, pred_list, ['location', 'drinks', 'food', 'ambience', 'service'], digits=3))\n",
    "    print('\\n')"
   ]
  },
  {
   "cell_type": "code",
   "execution_count": 28,
   "metadata": {},
   "outputs": [
    {
     "name": "stdout",
     "output_type": "stream",
     "text": [
      "              precision    recall  f1-score   support\n",
      "\n",
      "    location      0.067     0.583     0.121        12\n",
      "      drinks      0.169     0.583     0.262        48\n",
      "        food      0.963     0.481     0.641       541\n",
      "    ambience      0.232     0.465     0.310       114\n",
      "     service      0.769     0.617     0.685       269\n",
      "\n",
      "    accuracy                          0.522       984\n",
      "   macro avg      0.440     0.546     0.404       984\n",
      "weighted avg      0.776     0.522     0.590       984\n",
      "\n",
      "\n",
      "\n",
      "              precision    recall  f1-score   support\n",
      "\n",
      "    location      0.059     0.500     0.105        12\n",
      "      drinks      0.062     0.375     0.106        48\n",
      "        food      0.958     0.336     0.498       541\n",
      "    ambience      0.421     0.719     0.531       114\n",
      "     service      0.761     0.580     0.658       269\n",
      "\n",
      "    accuracy                          0.451       984\n",
      "   macro avg      0.452     0.502     0.380       984\n",
      "weighted avg      0.787     0.451     0.522       984\n",
      "\n",
      "\n",
      "\n",
      "              precision    recall  f1-score   support\n",
      "\n",
      "    location      0.060     0.583     0.109        12\n",
      "      drinks      0.181     0.667     0.284        48\n",
      "        food      0.960     0.444     0.607       541\n",
      "    ambience      0.246     0.491     0.327       114\n",
      "     service      0.765     0.606     0.676       269\n",
      "\n",
      "    accuracy                          0.506       984\n",
      "   macro avg      0.442     0.558     0.401       984\n",
      "weighted avg      0.775     0.506     0.572       984\n",
      "\n",
      "\n",
      "\n"
     ]
    }
   ],
   "source": [
    "pred_label_none = '../output/restaurant/labels_none.txt'\n",
    "pred_label_arya = '../output/restaurant/labels_arya.txt'\n",
    "pred_label_init = '../output/restaurant/labels_init.txt'\n",
    "\n",
    "evaluation(pred_label_none)\n",
    "evaluation(pred_label_arya)\n",
    "evaluation(pred_label_init)"
   ]
  }
 ],
 "metadata": {
  "kernelspec": {
   "display_name": "TensorFlow 2.1 on Python 3.7 (CUDA 10.1)",
   "language": "python",
   "name": "python3"
  },
  "language_info": {
   "codemirror_mode": {
    "name": "ipython",
    "version": 3
   },
   "file_extension": ".py",
   "mimetype": "text/x-python",
   "name": "python",
   "nbconvert_exporter": "python",
   "pygments_lexer": "ipython3",
   "version": "3.7.9"
  }
 },
 "nbformat": 4,
 "nbformat_minor": 4
}
