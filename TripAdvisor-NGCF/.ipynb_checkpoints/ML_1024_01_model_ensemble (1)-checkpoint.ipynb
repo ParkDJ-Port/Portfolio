{
 "cells": [
  {
   "cell_type": "markdown",
   "metadata": {
    "colab_type": "text",
    "id": "Xi-_0qA6N5hZ"
   },
   "source": [
    "<font color=\"#CC3D3D\"><p>\n",
    "# Ensemble Learning"
   ]
  },
  {
   "cell_type": "markdown",
   "metadata": {
    "colab": {
     "autoexec": {
      "startup": false,
      "wait_interval": 0
     }
    },
    "colab_type": "code",
    "id": "stensr9MN5hb"
   },
   "source": [
    "### Data Preparation"
   ]
  },
  {
   "cell_type": "code",
   "execution_count": null,
   "metadata": {
    "colab": {
     "autoexec": {
      "startup": false,
      "wait_interval": 0
     }
    },
    "colab_type": "code",
    "id": "stensr9MN5hb"
   },
   "outputs": [],
   "source": [
    "import pandas as pd\n",
    "import numpy as np\n",
    "import seaborn as sns\n",
    "import matplotlib.pylab as plt\n",
    "%matplotlib inline\n",
    "import warnings\n",
    "warnings.filterwarnings(\"ignore\")"
   ]
  },
  {
   "cell_type": "code",
   "execution_count": null,
   "metadata": {
    "colab": {
     "autoexec": {
      "startup": false,
      "wait_interval": 0
     }
    },
    "colab_type": "code",
    "id": "stensr9MN5hb"
   },
   "outputs": [],
   "source": [
    "# Read Data\n",
    "from sklearn.datasets import load_breast_cancer\n",
    "cancer = load_breast_cancer()\n",
    "cancer.data.shape, cancer.feature_names"
   ]
  },
  {
   "cell_type": "markdown",
   "metadata": {},
   "source": [
    "***유방암 진단 데이터***      \n",
    "- 타겟 데이터: 종양이 악성(malignant, 0) or 양성(benign, 1)\n",
    "- 속성 데이터: 유방암 진단 사진으로부터 측정한 종양(tumar)의 특징값(30 개)"
   ]
  },
  {
   "cell_type": "code",
   "execution_count": null,
   "metadata": {},
   "outputs": [],
   "source": [
    "# Split Data\n",
    "from sklearn.model_selection import train_test_split\n",
    "X_train, X_test, y_train, y_test = train_test_split(\n",
    "    cancer.data, cancer.target, random_state=0)"
   ]
  },
  {
   "cell_type": "markdown",
   "metadata": {},
   "source": [
    "## Correlation between models"
   ]
  },
  {
   "cell_type": "code",
   "execution_count": null,
   "metadata": {},
   "outputs": [],
   "source": [
    "from sklearn.linear_model import LogisticRegression\n",
    "from sklearn.neighbors import KNeighborsClassifier\n",
    "from sklearn.tree import DecisionTreeClassifier\n",
    "from sklearn.neural_network import MLPClassifier\n",
    "from sklearn.svm import SVC\n",
    "from sklearn.ensemble import RandomForestClassifier, GradientBoostingClassifier\n",
    "\n",
    "from sklearn.model_selection import cross_val_score\n",
    "from sklearn.metrics import accuracy_score\n",
    "from sklearn.metrics import roc_auc_score"
   ]
  },
  {
   "cell_type": "code",
   "execution_count": null,
   "metadata": {},
   "outputs": [],
   "source": [
    "clfs = []\n",
    "LR=LogisticRegression(random_state=0); clfs.append(LR)\n",
    "DT=DecisionTreeClassifier(random_state=0); clfs.append(DT)\n",
    "MLP=MLPClassifier(random_state=0); clfs.append(MLP)\n",
    "KNN=KNeighborsClassifier(); clfs.append(KNN)\n",
    "RF=RandomForestClassifier(random_state=0); clfs.append(RF)\n",
    "GBM=GradientBoostingClassifier(random_state=0); clfs.append(GBM)\n",
    "\n",
    "pred_results = []\n",
    "for clf in clfs :\n",
    "    pred = clf.fit(X_train, y_train).predict(X_test)\n",
    "    name = type(clf).__name__\n",
    "    pred_results.append(pd.Series(pred, name=name))\n",
    "    print(\"{:30s} {}\".format(name, accuracy_score(y_test, pred)))\n",
    "\n",
    "ensemble_results = pd.concat(pred_results, axis=1)\n",
    "plt.figure(figsize = (8,6))\n",
    "g = sns.heatmap(ensemble_results.corr(),annot=True, cmap='Blues')\n",
    "g.set_title(\"Correlation between models\")\n",
    "plt.show()"
   ]
  },
  {
   "cell_type": "code",
   "execution_count": null,
   "metadata": {},
   "outputs": [],
   "source": [
    "ensemble_results"
   ]
  },
  {
   "cell_type": "markdown",
   "metadata": {
    "colab_type": "text",
    "id": "U2F37ET-N5iP"
   },
   "source": [
    "## Voting ensemble   \n",
    "*평가지표가 accuracy, recall, precision 등일 경우 사용*"
   ]
  },
  {
   "cell_type": "code",
   "execution_count": null,
   "metadata": {},
   "outputs": [],
   "source": [
    "from sklearn.ensemble import VotingClassifier\n",
    "\n",
    "# 위에서 평가한 모든 모델을 앙상블할 경우\n",
    "voting = VotingClassifier(\n",
    "    estimators = [(type(clf).__name__, clf) for clf in clfs], voting='hard')\n",
    "voting.fit(X_train, y_train).score(X_test, y_test)"
   ]
  },
  {
   "cell_type": "code",
   "execution_count": null,
   "metadata": {},
   "outputs": [],
   "source": [
    "# 가장 성능이 높은 GBM과 낮은 상관관계가 있는 모델끼리만 앙상블할 경우\n",
    "voting = VotingClassifier(\n",
    "    estimators = [('gbm', GBM), ('mlp', MLP), ('dt', DT)], voting='hard')\n",
    "voting.fit(X_train, y_train).score(X_test, y_test)"
   ]
  },
  {
   "cell_type": "code",
   "execution_count": null,
   "metadata": {
    "colab": {
     "autoexec": {
      "startup": false,
      "wait_interval": 0
     }
    },
    "colab_type": "code",
    "id": "pQqos_uaN5iQ"
   },
   "outputs": [],
   "source": [
    "# GBM과 성능이 비슷한 LR과 낮은 상관관계가 있는 모델끼리만 앙상블할 경우\n",
    "from sklearn.ensemble import VotingClassifier\n",
    "\n",
    "voting = VotingClassifier(\n",
    "    estimators = [('lr', LR), ('dt', DT), ('knn', KNN)], voting='hard')\n",
    "voting.fit(X_train, y_train).score(X_test, y_test)"
   ]
  },
  {
   "cell_type": "markdown",
   "metadata": {},
   "source": [
    "***Plotting Decision Regions***"
   ]
  },
  {
   "cell_type": "code",
   "execution_count": null,
   "metadata": {},
   "outputs": [],
   "source": [
    "#!pip install mlxtend"
   ]
  },
  {
   "cell_type": "code",
   "execution_count": null,
   "metadata": {},
   "outputs": [],
   "source": [
    "import matplotlib.gridspec as gridspec\n",
    "import itertools\n",
    "from mlxtend.plotting import plot_decision_regions\n",
    "\n",
    "X, y = X_train, y_train\n",
    "X = X[:,[0, 10]]\n",
    "\n",
    "gs = gridspec.GridSpec(2, 2)\n",
    "fig = plt.figure(figsize=(10, 8))\n",
    "\n",
    "labels = ['Logistic Regression',\n",
    "          'Decision Tree',\n",
    "          'k-NN',\n",
    "          'Voting Ensemble']\n",
    "\n",
    "for clf, lab, grd in zip([LR, DT, KNN, voting],\n",
    "                         labels,\n",
    "                         itertools.product([0, 1], repeat=2)):\n",
    "    clf.fit(X, y)\n",
    "    ax = plt.subplot(gs[grd[0], grd[1]])\n",
    "    fig = plot_decision_regions(X=X, y=y, clf=clf, legend=2)\n",
    "    plt.title(lab)\n",
    "\n",
    "plt.show()"
   ]
  },
  {
   "cell_type": "markdown",
   "metadata": {
    "colab_type": "text",
    "id": "p5BZCjnIN5iT"
   },
   "source": [
    "## Averaging predictions   \n",
    "*평가지표가 roc-auc, logloss 등일 경우 사용*"
   ]
  },
  {
   "cell_type": "markdown",
   "metadata": {},
   "source": [
    "***Arithmetic mean***"
   ]
  },
  {
   "cell_type": "code",
   "execution_count": null,
   "metadata": {
    "colab": {
     "autoexec": {
      "startup": false,
      "wait_interval": 0
     }
    },
    "colab_type": "code",
    "id": "5laHXOjxN5iT"
   },
   "outputs": [],
   "source": [
    "averaging = VotingClassifier(\n",
    "    estimators = [('lr', LR), ('dt', DT), ('knn', KNN)], voting='soft')\n",
    "averaging.fit(X_train, y_train)\n",
    "\n",
    "print('AUC =', roc_auc_score(y_test, averaging.predict_proba(X_test)[:,1]))"
   ]
  },
  {
   "cell_type": "markdown",
   "metadata": {},
   "source": [
    "<img align='left' src=\"https://t1.daumcdn.net/cfile/tistory/2454233C57FA242D11\">"
   ]
  },
  {
   "cell_type": "markdown",
   "metadata": {},
   "source": [
    "***Geometric mean***"
   ]
  },
  {
   "cell_type": "code",
   "execution_count": null,
   "metadata": {},
   "outputs": [],
   "source": [
    "from scipy.stats.mstats import gmean\n",
    "\n",
    "pred_logreg = LR.fit(X_train, y_train).predict_proba(X_test)[:,1]\n",
    "pred_tree = DT.fit(X_train, y_train).predict_proba(X_test)[:,1]\n",
    "pred_knn = KNN.fit(X_train, y_train).predict_proba(X_test)[:,1]\n",
    "\n",
    "print('AUC = ', roc_auc_score(y_test, gmean([pred_logreg, pred_tree, pred_knn], axis=0)))"
   ]
  },
  {
   "cell_type": "markdown",
   "metadata": {
    "colab_type": "text",
    "id": "NI0nfQJUN5iY"
   },
   "source": [
    "## Stacking \n",
    "<br>\n",
    "<img align='left' src=\"https://rasbt.github.io/mlxtend/user_guide/classifier/StackingClassifier_files/stackingclassification_overview.png\" width=500 height=400>"
   ]
  },
  {
   "cell_type": "markdown",
   "metadata": {
    "colab_type": "text",
    "id": "ptDtIRwmN5iY"
   },
   "source": [
    "Install **vecstack** package using the following command:\n",
    "```\n",
    "!pip install vecstack\n",
    "```\n",
    "https://github.com/vecxoz/vecstack#variant-a-animation    \n"
   ]
  },
  {
   "cell_type": "markdown",
   "metadata": {},
   "source": [
    "    \n",
    "    \n",
    "***2-layer stacking***"
   ]
  },
  {
   "cell_type": "code",
   "execution_count": null,
   "metadata": {
    "colab": {
     "autoexec": {
      "startup": false,
      "wait_interval": 0
     }
    },
    "colab_type": "code",
    "id": "lIy4ThBsN5ib"
   },
   "outputs": [],
   "source": [
    "from vecstack import stacking\n",
    "\n",
    "models = clfs\n",
    "S_train, S_test = stacking(models,                     # list of models\n",
    "                           X_train, y_train, X_test,   # data\n",
    "                           regression=False,           # classification task (if you need \n",
    "                                                       #     regression - set to True)\n",
    "                           needs_proba=False,          # predict class labels (if you need \n",
    "                                                       #     probabilities - set to True) \n",
    "                           metric=accuracy_score,      # metric: callable\n",
    "                           n_folds=5,                  # number of folds\n",
    "                           stratified=True,            # stratified split for folds\n",
    "                           shuffle=True,               # shuffle the data\n",
    "                           random_state=0,             # ensure reproducibility\n",
    "                           verbose=2)                  # print all info\n",
    "meta_model = GBM.fit(S_train, y_train)\n",
    "accuracy_score(y_test, meta_model.predict(S_test))"
   ]
  },
  {
   "cell_type": "code",
   "execution_count": null,
   "metadata": {},
   "outputs": [],
   "source": [
    "X_train.shape, S_train.shape, X_test.shape, S_test.shape"
   ]
  },
  {
   "cell_type": "markdown",
   "metadata": {},
   "source": [
    "***3-layer stacking***"
   ]
  },
  {
   "cell_type": "code",
   "execution_count": null,
   "metadata": {},
   "outputs": [],
   "source": [
    "# level-1: LR, DT, MLP, KNN, RF, GBM\n",
    "\n",
    "models = clfs\n",
    "S_train, S_test = stacking(models,                     # list of models\n",
    "                           X_train, y_train, X_test,   # data\n",
    "                           regression=False,           # classification task (if you need \n",
    "                                                       #     regression - set to True)\n",
    "                           needs_proba=True,           # predict class labels (if you need \n",
    "                                                       #     probabilities - set to True) \n",
    "                           metric=accuracy_score,      # metric: callable\n",
    "                           n_folds=3,                  # number of folds\n",
    "                           stratified=True,            # stratified split for folds\n",
    "                           shuffle=True,               # shuffle the data\n",
    "                           random_state=0,             # ensure reproducibility\n",
    "                           verbose=0)                  # print all info"
   ]
  },
  {
   "cell_type": "code",
   "execution_count": null,
   "metadata": {},
   "outputs": [],
   "source": [
    "# level-2: LR, DT, KNN\n",
    "# Level-3: Voting\n",
    "\n",
    "voting = VotingClassifier(estimators = [('lr', LR), ('dt', DT), ('knn', KNN)], voting='hard')\n",
    "voting.fit(S_train, y_train).score(S_test, y_test)"
   ]
  },
  {
   "cell_type": "markdown",
   "metadata": {},
   "source": [
    "***using `sklearn`***"
   ]
  },
  {
   "cell_type": "code",
   "execution_count": null,
   "metadata": {},
   "outputs": [],
   "source": [
    "from sklearn.ensemble import StackingClassifier\n",
    "\n",
    "# 2-layer stacking\n",
    "\n",
    "estimators = [(type(clf).__name__, clf) for clf in clfs]\n",
    "stk_clf = StackingClassifier(\n",
    "    estimators=estimators, final_estimator=GBM, cv=5)\n",
    "\n",
    "stk_clf.fit(X_train, y_train).score(X_test, y_test)"
   ]
  },
  {
   "cell_type": "code",
   "execution_count": null,
   "metadata": {},
   "outputs": [],
   "source": [
    "# 3-layer stacking (Level-3: Voting)\n",
    "\n",
    "layer_one_estimators = [(type(clf).__name__, clf) for clf in clfs]\n",
    "voting = VotingClassifier(estimators = [('lr', LR), ('dt', DT), ('knn', KNN)], voting='hard')\n",
    "stk_clf = StackingClassifier(estimators=layer_one_estimators, final_estimator=voting, cv=5)\n",
    "\n",
    "stk_clf.fit(X_train, y_train).score(X_test, y_test)"
   ]
  },
  {
   "cell_type": "code",
   "execution_count": null,
   "metadata": {},
   "outputs": [],
   "source": [
    "# 3-layer stacking (Level-3: LR)\n",
    "\n",
    "layer_one_estimators = [(type(clf).__name__, clf) for clf in clfs]\n",
    "layer_two_estimators = [('lr', LR), ('dt', DT), ('knn', KNN)]\n",
    "\n",
    "layer_two = StackingClassifier(estimators=layer_two_estimators, final_estimator=LR)\n",
    "stk_clf = StackingClassifier(estimators=layer_one_estimators, final_estimator=layer_two, cv=5)\n",
    "\n",
    "stk_clf.fit(X_train, y_train).score(X_test, y_test)"
   ]
  },
  {
   "cell_type": "markdown",
   "metadata": {},
   "source": [
    "##### Improvements in stacked model performance can be accomplished by:\n",
    "- Adding models to Level 0 and Level 1 using different algorithms\n",
    "- Tuning Hyper-parameters\n",
    "- Adding feature sets by feature engineering\n",
    "- Adding levels in the model structure"
   ]
  },
  {
   "cell_type": "markdown",
   "metadata": {},
   "source": [
    "### Model Stacking in Kaggle: \n",
    "- [1st Place Solution of \"Home Depot Product Search Relevance\"](https://github.com/ChenglongChen/Kaggle_HomeDepot)\n",
    "<img src=\"https://github.com/ChenglongChen/Kaggle_HomeDepot/raw/master/Fig/FlowChart.jpg\" width=800, height=600><p>\n",
    "- [1st Place Solution of \"Otto Group Product Classification Challenge\"](https://www.kaggle.com/c/otto-group-product-classification-challenge/discussion/14335)\n",
    "<br>\n",
    "<img src=\"http://drive.google.com/uc?export=view&id=1SfVsQSX7Rjmu335zX1aFdolBKccv545w\" width=600, height=400>\n",
    "<br><br>\n",
    "- [1st Place Solution of \"Homesite Quote Conversion\"](https://kweonwooj.tistory.com/2)\n",
    "<br>\n",
    "<img src=\"https://t1.daumcdn.net/cfile/tistory/2132EF50571DDC1F26\" width=700, height=500>\n",
    "<br><br>"
   ]
  },
  {
   "cell_type": "markdown",
   "metadata": {},
   "source": [
    "<font color=\"#CC3D3D\"><p>\n",
    "# End"
   ]
  }
 ],
 "metadata": {
  "colab": {
   "default_view": {},
   "name": "M3_code_02.ipynb",
   "provenance": [],
   "version": "0.3.2",
   "views": {}
  },
  "kernelspec": {
   "display_name": "Python 3",
   "language": "python",
   "name": "python3"
  },
  "language_info": {
   "codemirror_mode": {
    "name": "ipython",
    "version": 3
   },
   "file_extension": ".py",
   "mimetype": "text/x-python",
   "name": "python",
   "nbconvert_exporter": "python",
   "pygments_lexer": "ipython3",
   "version": "3.7.6"
  }
 },
 "nbformat": 4,
 "nbformat_minor": 4
}
